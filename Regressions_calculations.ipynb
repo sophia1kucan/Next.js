{
  "nbformat": 4,
  "nbformat_minor": 0,
  "metadata": {
    "colab": {
      "provenance": [],
      "authorship_tag": "ABX9TyNcbprSSxBMcUUQ2gB+wMPQ",
      "include_colab_link": true
    },
    "kernelspec": {
      "name": "python3",
      "display_name": "Python 3"
    },
    "language_info": {
      "name": "python"
    }
  },
  "cells": [
    {
      "cell_type": "markdown",
      "metadata": {
        "id": "view-in-github",
        "colab_type": "text"
      },
      "source": [
        "<a href=\"https://colab.research.google.com/github/sophia1kucan/Next.js/blob/main/Regressions_calculations.ipynb\" target=\"_parent\"><img src=\"https://colab.research.google.com/assets/colab-badge.svg\" alt=\"Open In Colab\"/></a>"
      ]
    },
    {
      "cell_type": "code",
      "execution_count": null,
      "metadata": {
        "colab": {
          "base_uri": "https://localhost:8080/"
        },
        "id": "PmhKVcd9zmni",
        "outputId": "7525f6f6-7397-4291-faa3-a1a9affaa368"
      },
      "outputs": [
        {
          "output_type": "stream",
          "name": "stdout",
          "text": [
            "[[ 1.1e+00 -3.0e-02]\n",
            " [-3.0e-02  1.0e-03]]\n"
          ]
        }
      ],
      "source": [
        "import numpy as np\n",
        "\n",
        "\n",
        "#define the matrices\n",
        "X = np.array([[1, 10],\n",
        "              [1, 20],\n",
        "              [1, 30],\n",
        "              [1, 40],\n",
        "              [1, 50]])\n",
        "\n",
        "y = np.array([[577],\n",
        "              [1085],\n",
        "              [1963],\n",
        "              [2660],\n",
        "              [3438]])\n",
        "\n",
        "#transpose of X\n",
        "X_T = X.transpose()\n",
        "\n",
        "#calculate X^TX\n",
        "X_TX = X_T@X\n",
        "\n",
        "#calculate (X^TX)^-1\n",
        "X_TX_inv = np.linalg.inv(X_TX)\n",
        "\n",
        "print(X_TX_inv)\n",
        "\n"
      ]
    },
    {
      "cell_type": "code",
      "source": [],
      "metadata": {
        "id": "_Zx8cYkr0MGH"
      },
      "execution_count": null,
      "outputs": []
    }
  ]
}
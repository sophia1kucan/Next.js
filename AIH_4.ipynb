{
  "nbformat": 4,
  "nbformat_minor": 0,
  "metadata": {
    "colab": {
      "provenance": [],
      "authorship_tag": "ABX9TyNkBmb6ZCiuJ5sUCq69GKUV",
      "include_colab_link": true
    },
    "kernelspec": {
      "name": "python3",
      "display_name": "Python 3"
    },
    "language_info": {
      "name": "python"
    }
  },
  "cells": [
    {
      "cell_type": "markdown",
      "metadata": {
        "id": "view-in-github",
        "colab_type": "text"
      },
      "source": [
        "<a href=\"https://colab.research.google.com/github/sophia1kucan/Next.js/blob/main/AIH_4.ipynb\" target=\"_parent\"><img src=\"https://colab.research.google.com/assets/colab-badge.svg\" alt=\"Open In Colab\"/></a>"
      ]
    },
    {
      "cell_type": "code",
      "execution_count": null,
      "metadata": {
        "id": "0D6qzJAXtAIM"
      },
      "outputs": [],
      "source": [
        "# Import what we need\n",
        "from sklearn.datasets import load_iris\n",
        "from sklearn.linear_model import LinearRegression\n",
        "import matplotlib.pyplot as plt\n",
        "import numpy as np\n",
        "\n",
        "# Load the iris dataset\n",
        "iris = load_iris()\n",
        "X = iris.data[:, 2].reshape(-1, 1)  # Petal length (input)\n",
        "y = iris.data[:, 3]  # Petal width (what we're predicting)\n",
        "\n",
        "# Create and train our model\n",
        "model = LinearRegression()\n",
        "model.fit(X, y)\n",
        "\n",
        "# Get coefficient and intercept (our formula)\n",
        "m = model.coef_[0]\n",
        "b = model.intercept_\n",
        "print(\"Y = mx + c\")\n",
        "print(f\"Formula: Width = {m:.2f} × Length + {b:.2f}\")\n",
        "\n",
        "# Calculate how well our model fits the data\n",
        "score = model.score(X, y)\n",
        "print(f\"R² score: {score:.2f}\")\n",
        "\n",
        "# Create a scatter plot with prediction line\n",
        "plt.figure(figsize=(10, 6))\n",
        "plt.scatter(X, y, c=iris.target, cmap='viridis')\n",
        "plt.plot(X, model.predict(X), color='red', linewidth=2)\n",
        "plt.xlabel('Petal Length (cm)')\n",
        "plt.ylabel('Petal Width (cm)')\n",
        "plt.title('Predicting Iris Petal Width from Length')\n",
        "plt.colorbar(label='Species')\n",
        "plt.tight_layout()\n",
        "plt.show()"
      ]
    }
  ]
}
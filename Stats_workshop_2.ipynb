{
  "nbformat": 4,
  "nbformat_minor": 0,
  "metadata": {
    "colab": {
      "provenance": [],
      "authorship_tag": "ABX9TyO+tonfT5MC9YVQGQb31ba4",
      "include_colab_link": true
    },
    "kernelspec": {
      "name": "ir",
      "display_name": "R"
    },
    "language_info": {
      "name": "R"
    }
  },
  "cells": [
    {
      "cell_type": "markdown",
      "metadata": {
        "id": "view-in-github",
        "colab_type": "text"
      },
      "source": [
        "<a href=\"https://colab.research.google.com/github/sophia1kucan/Next.js/blob/main/Stats_workshop_2.ipynb\" target=\"_parent\"><img src=\"https://colab.research.google.com/assets/colab-badge.svg\" alt=\"Open In Colab\"/></a>"
      ]
    },
    {
      "cell_type": "code",
      "execution_count": 4,
      "metadata": {
        "colab": {
          "base_uri": "https://localhost:8080/",
          "height": 732
        },
        "id": "AJzrk_IiQdcv",
        "outputId": "98eda26b-fd28-4247-e2f9-e59d03d8ffe0"
      },
      "outputs": [
        {
          "output_type": "stream",
          "name": "stdout",
          "text": [
            "'data.frame':\t32 obs. of  11 variables:\n",
            " $ mpg : num  21 21 22.8 21.4 18.7 18.1 14.3 24.4 22.8 19.2 ...\n",
            " $ cyl : num  6 6 4 6 8 6 8 4 4 6 ...\n",
            " $ disp: num  160 160 108 258 360 ...\n",
            " $ hp  : num  110 110 93 110 175 105 245 62 95 123 ...\n",
            " $ drat: num  3.9 3.9 3.85 3.08 3.15 2.76 3.21 3.69 3.92 3.92 ...\n",
            " $ wt  : num  2.62 2.88 2.32 3.21 3.44 ...\n",
            " $ qsec: num  16.5 17 18.6 19.4 17 ...\n",
            " $ vs  : num  0 0 1 1 0 1 0 1 1 1 ...\n",
            " $ am  : num  1 1 1 0 0 0 0 0 0 0 ...\n",
            " $ gear: num  4 4 4 3 3 3 3 4 4 4 ...\n",
            " $ carb: num  4 4 1 1 2 1 4 2 2 4 ...\n"
          ]
        },
        {
          "output_type": "stream",
          "name": "stderr",
          "text": [
            "Warning message:\n",
            "“\u001b[1m\u001b[22m`qplot()` was deprecated in ggplot2 3.4.0.”\n",
            "Warning message:\n",
            "“\u001b[1m\u001b[22mContinuous \u001b[32mx\u001b[39m aesthetic\n",
            "\u001b[36mℹ\u001b[39m did you forget `aes(group = ...)`?”\n"
          ]
        },
        {
          "output_type": "display_data",
          "data": {
            "text/plain": [
              "plot without title"
            ],
            "image/png": "[encoded data removed]"
          },
          "metadata": {
            "image/png": {
              "width": 420,
              "height": 420
            }
          }
        }
      ],
      "source": [
        "str(mtcars)\n",
        "library(ggplot2)\n",
        "\n",
        "\n",
        "\n",
        "qplot(x=mtcars$cyl,y=mtcars$mpg,geom=\"boxplot\")"
      ]
    },
    {
      "cell_type": "code",
      "source": [
        "qplot(x=as.factor(mtcars$cyl),y=mtcars$mpg,geom=\"boxplot\")"
      ],
      "metadata": {
        "colab": {
          "base_uri": "https://localhost:8080/",
          "height": 437
        },
        "id": "-FHfXxw_RuZp",
        "outputId": "797d88da-8cf2-4a7c-a343-5c6b1601353f"
      },
      "execution_count": 5,
      "outputs": [
        {
          "output_type": "display_data",
          "data": {
            "text/plain": [
              "plot without title"
            ],
            "image/png": "[encoded data removed]"
          },
          "metadata": {
            "image/png": {
              "width": 420,
              "height": 420
            }
          }
        }
      ]
    },
    {
      "cell_type": "code",
      "source": [
        "fit1 <- lm(mpg~cyl,data=mtcars)\n",
        "summary(fit1)"
      ],
      "metadata": {
        "colab": {
          "base_uri": "https://localhost:8080/",
          "height": 329
        },
        "id": "ABMH9pesSmDA",
        "outputId": "6112538b-37a9-4f88-b43e-0c9815eff3e7"
      },
      "execution_count": 7,
      "outputs": [
        {
          "output_type": "display_data",
          "data": {
            "text/plain": [
              "\n",
              "Call:\n",
              "lm(formula = mpg ~ cyl, data = mtcars)\n",
              "\n",
              "Residuals:\n",
              "    Min      1Q  Median      3Q     Max \n",
              "-4.9814 -2.1185  0.2217  1.0717  7.5186 \n",
              "\n",
              "Coefficients:\n",
              "            Estimate Std. Error t value Pr(>|t|)    \n",
              "(Intercept)  37.8846     2.0738   18.27  < 2e-16 ***\n",
              "cyl          -2.8758     0.3224   -8.92 6.11e-10 ***\n",
              "---\n",
              "Signif. codes:  0 ‘***’ 0.001 ‘**’ 0.01 ‘*’ 0.05 ‘.’ 0.1 ‘ ’ 1\n",
              "\n",
              "Residual standard error: 3.206 on 30 degrees of freedom\n",
              "Multiple R-squared:  0.7262,\tAdjusted R-squared:  0.7171 \n",
              "F-statistic: 79.56 on 1 and 30 DF,  p-value: 6.113e-10\n"
            ]
          },
          "metadata": {}
        }
      ]
    },
    {
      "cell_type": "code",
      "source": [
        "model.matrix(fit1)"
      ],
      "metadata": {
        "colab": {
          "base_uri": "https://localhost:8080/",
          "height": 1000
        },
        "id": "kjJM2tltSo1f",
        "outputId": "d6470e77-303f-40c7-fa49-1babb187ed8d"
      },
      "execution_count": 8,
      "outputs": [
        {
          "output_type": "display_data",
          "data": {
            "text/html": [
              "<table class=\"dataframe\">\n",
              "<caption>A matrix: 32 × 2 of type dbl</caption>\n",
              "<thead>\n",
              "\t<tr><th></th><th scope=col>(Intercept)</th><th scope=col>cyl</th></tr>\n",
              "</thead>\n",
              "<tbody>\n",
              "\t<tr><th scope=row>Mazda RX4</th><td>1</td><td>6</td></tr>\n",
              "\t<tr><th scope=row>Mazda RX4 Wag</th><td>1</td><td>6</td></tr>\n",
              "\t<tr><th scope=row>Datsun 710</th><td>1</td><td>4</td></tr>\n",
              "\t<tr><th scope=row>Hornet 4 Drive</th><td>1</td><td>6</td></tr>\n",
              "\t<tr><th scope=row>Hornet Sportabout</th><td>1</td><td>8</td></tr>\n",
              "\t<tr><th scope=row>Valiant</th><td>1</td><td>6</td></tr>\n",
              "\t<tr><th scope=row>Duster 360</th><td>1</td><td>8</td></tr>\n",
              "\t<tr><th scope=row>Merc 240D</th><td>1</td><td>4</td></tr>\n",
              "\t<tr><th scope=row>Merc 230</th><td>1</td><td>4</td></tr>\n",
              "\t<tr><th scope=row>Merc 280</th><td>1</td><td>6</td></tr>\n",
              "\t<tr><th scope=row>Merc 280C</th><td>1</td><td>6</td></tr>\n",
              "\t<tr><th scope=row>Merc 450SE</th><td>1</td><td>8</td></tr>\n",
              "\t<tr><th scope=row>Merc 450SL</th><td>1</td><td>8</td></tr>\n",
              "\t<tr><th scope=row>Merc 450SLC</th><td>1</td><td>8</td></tr>\n",
              "\t<tr><th scope=row>Cadillac Fleetwood</th><td>1</td><td>8</td></tr>\n",
              "\t<tr><th scope=row>Lincoln Continental</th><td>1</td><td>8</td></tr>\n",
              "\t<tr><th scope=row>Chrysler Imperial</th><td>1</td><td>8</td></tr>\n",
              "\t<tr><th scope=row>Fiat 128</th><td>1</td><td>4</td></tr>\n",
              "\t<tr><th scope=row>Honda Civic</th><td>1</td><td>4</td></tr>\n",
              "\t<tr><th scope=row>Toyota Corolla</th><td>1</td><td>4</td></tr>\n",
              "\t<tr><th scope=row>Toyota Corona</th><td>1</td><td>4</td></tr>\n",
              "\t<tr><th scope=row>Dodge Challenger</th><td>1</td><td>8</td></tr>\n",
              "\t<tr><th scope=row>AMC Javelin</th><td>1</td><td>8</td></tr>\n",
              "\t<tr><th scope=row>Camaro Z28</th><td>1</td><td>8</td></tr>\n",
              "\t<tr><th scope=row>Pontiac Firebird</th><td>1</td><td>8</td></tr>\n",
              "\t<tr><th scope=row>Fiat X1-9</th><td>1</td><td>4</td></tr>\n",
              "\t<tr><th scope=row>Porsche 914-2</th><td>1</td><td>4</td></tr>\n",
              "\t<tr><th scope=row>Lotus Europa</th><td>1</td><td>4</td></tr>\n",
              "\t<tr><th scope=row>Ford Pantera L</th><td>1</td><td>8</td></tr>\n",
              "\t<tr><th scope=row>Ferrari Dino</th><td>1</td><td>6</td></tr>\n",
              "\t<tr><th scope=row>Maserati Bora</th><td>1</td><td>8</td></tr>\n",
              "\t<tr><th scope=row>Volvo 142E</th><td>1</td><td>4</td></tr>\n",
              "</tbody>\n",
              "</table>\n"
            ],
            "text/markdown": "\nA matrix: 32 × 2 of type dbl\n\n| <!--/--> | (Intercept) | cyl |\n|---|---|---|\n| Mazda RX4 | 1 | 6 |\n| Mazda RX4 Wag | 1 | 6 |\n| Datsun 710 | 1 | 4 |\n| Hornet 4 Drive | 1 | 6 |\n| Hornet Sportabout | 1 | 8 |\n| Valiant | 1 | 6 |\n| Duster 360 | 1 | 8 |\n| Merc 240D | 1 | 4 |\n| Merc 230 | 1 | 4 |\n| Merc 280 | 1 | 6 |\n| Merc 280C | 1 | 6 |\n| Merc 450SE | 1 | 8 |\n| Merc 450SL | 1 | 8 |\n| Merc 450SLC | 1 | 8 |\n| Cadillac Fleetwood | 1 | 8 |\n| Lincoln Continental | 1 | 8 |\n| Chrysler Imperial | 1 | 8 |\n| Fiat 128 | 1 | 4 |\n| Honda Civic | 1 | 4 |\n| Toyota Corolla | 1 | 4 |\n| Toyota Corona | 1 | 4 |\n| Dodge Challenger | 1 | 8 |\n| AMC Javelin | 1 | 8 |\n| Camaro Z28 | 1 | 8 |\n| Pontiac Firebird | 1 | 8 |\n| Fiat X1-9 | 1 | 4 |\n| Porsche 914-2 | 1 | 4 |\n| Lotus Europa | 1 | 4 |\n| Ford Pantera L | 1 | 8 |\n| Ferrari Dino | 1 | 6 |\n| Maserati Bora | 1 | 8 |\n| Volvo 142E | 1 | 4 |\n\n",
            "text/latex": "A matrix: 32 × 2 of type dbl\n\\begin{tabular}{r|ll}\n  & (Intercept) & cyl\\\\\n\\hline\n\tMazda RX4 & 1 & 6\\\\\n\tMazda RX4 Wag & 1 & 6\\\\\n\tDatsun 710 & 1 & 4\\\\\n\tHornet 4 Drive & 1 & 6\\\\\n\tHornet Sportabout & 1 & 8\\\\\n\tValiant & 1 & 6\\\\\n\tDuster 360 & 1 & 8\\\\\n\tMerc 240D & 1 & 4\\\\\n\tMerc 230 & 1 & 4\\\\\n\tMerc 280 & 1 & 6\\\\\n\tMerc 280C & 1 & 6\\\\\n\tMerc 450SE & 1 & 8\\\\\n\tMerc 450SL & 1 & 8\\\\\n\tMerc 450SLC & 1 & 8\\\\\n\tCadillac Fleetwood & 1 & 8\\\\\n\tLincoln Continental & 1 & 8\\\\\n\tChrysler Imperial & 1 & 8\\\\\n\tFiat 128 & 1 & 4\\\\\n\tHonda Civic & 1 & 4\\\\\n\tToyota Corolla & 1 & 4\\\\\n\tToyota Corona & 1 & 4\\\\\n\tDodge Challenger & 1 & 8\\\\\n\tAMC Javelin & 1 & 8\\\\\n\tCamaro Z28 & 1 & 8\\\\\n\tPontiac Firebird & 1 & 8\\\\\n\tFiat X1-9 & 1 & 4\\\\\n\tPorsche 914-2 & 1 & 4\\\\\n\tLotus Europa & 1 & 4\\\\\n\tFord Pantera L & 1 & 8\\\\\n\tFerrari Dino & 1 & 6\\\\\n\tMaserati Bora & 1 & 8\\\\\n\tVolvo 142E & 1 & 4\\\\\n\\end{tabular}\n",
            "text/plain": [
              "                    (Intercept) cyl\n",
              "Mazda RX4           1           6  \n",
              "Mazda RX4 Wag       1           6  \n",
              "Datsun 710          1           4  \n",
              "Hornet 4 Drive      1           6  \n",
              "Hornet Sportabout   1           8  \n",
              "Valiant             1           6  \n",
              "Duster 360          1           8  \n",
              "Merc 240D           1           4  \n",
              "Merc 230            1           4  \n",
              "Merc 280            1           6  \n",
              "Merc 280C           1           6  \n",
              "Merc 450SE          1           8  \n",
              "Merc 450SL          1           8  \n",
              "Merc 450SLC         1           8  \n",
              "Cadillac Fleetwood  1           8  \n",
              "Lincoln Continental 1           8  \n",
              "Chrysler Imperial   1           8  \n",
              "Fiat 128            1           4  \n",
              "Honda Civic         1           4  \n",
              "Toyota Corolla      1           4  \n",
              "Toyota Corona       1           4  \n",
              "Dodge Challenger    1           8  \n",
              "AMC Javelin         1           8  \n",
              "Camaro Z28          1           8  \n",
              "Pontiac Firebird    1           8  \n",
              "Fiat X1-9           1           4  \n",
              "Porsche 914-2       1           4  \n",
              "Lotus Europa        1           4  \n",
              "Ford Pantera L      1           8  \n",
              "Ferrari Dino        1           6  \n",
              "Maserati Bora       1           8  \n",
              "Volvo 142E          1           4  "
            ]
          },
          "metadata": {}
        }
      ]
    },
    {
      "cell_type": "code",
      "source": [
        "NewData <- mtcars\n",
        "NewData$cyl <- factor(NewData$cyl)\n",
        "levels(NewData$cyl)\n",
        "fit2 <- lm(mpg~cyl,data=NewData)"
      ],
      "metadata": {
        "colab": {
          "base_uri": "https://localhost:8080/",
          "height": 34
        },
        "id": "nWqWItMlSvDJ",
        "outputId": "8fa6acd3-a44c-4f79-f45e-0e5444905976"
      },
      "execution_count": 11,
      "outputs": [
        {
          "output_type": "display_data",
          "data": {
            "text/html": [
              "<style>\n",
              ".list-inline {list-style: none; margin:0; padding: 0}\n",
              ".list-inline>li {display: inline-block}\n",
              ".list-inline>li:not(:last-child)::after {content: \"\\00b7\"; padding: 0 .5ex}\n",
              "</style>\n",
              "<ol class=list-inline><li>'4'</li><li>'6'</li><li>'8'</li></ol>\n"
            ],
            "text/markdown": "1. '4'\n2. '6'\n3. '8'\n\n\n",
            "text/latex": "\\begin{enumerate*}\n\\item '4'\n\\item '6'\n\\item '8'\n\\end{enumerate*}\n",
            "text/plain": [
              "[1] \"4\" \"6\" \"8\""
            ]
          },
          "metadata": {}
        }
      ]
    },
    {
      "cell_type": "code",
      "source": [
        "summary(NewData)"
      ],
      "metadata": {
        "colab": {
          "base_uri": "https://localhost:8080/",
          "height": 382
        },
        "id": "z32hkzOjSyAy",
        "outputId": "1acbb55a-3f5b-4ac7-a443-363f11661769"
      },
      "execution_count": 14,
      "outputs": [
        {
          "output_type": "display_data",
          "data": {
            "text/plain": [
              "      mpg        cyl         disp             hp             drat      \n",
              " Min.   :10.40   4:11   Min.   : 71.1   Min.   : 52.0   Min.   :2.760  \n",
              " 1st Qu.:15.43   6: 7   1st Qu.:120.8   1st Qu.: 96.5   1st Qu.:3.080  \n",
              " Median :19.20   8:14   Median :196.3   Median :123.0   Median :3.695  \n",
              " Mean   :20.09          Mean   :230.7   Mean   :146.7   Mean   :3.597  \n",
              " 3rd Qu.:22.80          3rd Qu.:326.0   3rd Qu.:180.0   3rd Qu.:3.920  \n",
              " Max.   :33.90          Max.   :472.0   Max.   :335.0   Max.   :4.930  \n",
              "       wt             qsec             vs               am        \n",
              " Min.   :1.513   Min.   :14.50   Min.   :0.0000   Min.   :0.0000  \n",
              " 1st Qu.:2.581   1st Qu.:16.89   1st Qu.:0.0000   1st Qu.:0.0000  \n",
              " Median :3.325   Median :17.71   Median :0.0000   Median :0.0000  \n",
              " Mean   :3.217   Mean   :17.85   Mean   :0.4375   Mean   :0.4062  \n",
              " 3rd Qu.:3.610   3rd Qu.:18.90   3rd Qu.:1.0000   3rd Qu.:1.0000  \n",
              " Max.   :5.424   Max.   :22.90   Max.   :1.0000   Max.   :1.0000  \n",
              "      gear            carb      \n",
              " Min.   :3.000   Min.   :1.000  \n",
              " 1st Qu.:3.000   1st Qu.:2.000  \n",
              " Median :4.000   Median :2.000  \n",
              " Mean   :3.688   Mean   :2.812  \n",
              " 3rd Qu.:4.000   3rd Qu.:4.000  \n",
              " Max.   :5.000   Max.   :8.000  "
            ]
          },
          "metadata": {}
        }
      ]
    },
    {
      "cell_type": "code",
      "source": [
        "head(NewData)"
      ],
      "metadata": {
        "colab": {
          "base_uri": "https://localhost:8080/",
          "height": 286
        },
        "id": "xL7NumO6Tyrl",
        "outputId": "0859c6ec-bf7e-4c1e-b1df-33ecb9c767d0"
      },
      "execution_count": 15,
      "outputs": [
        {
          "output_type": "display_data",
          "data": {
            "text/html": [
              "<table class=\"dataframe\">\n",
              "<caption>A data.frame: 6 × 11</caption>\n",
              "<thead>\n",
              "\t<tr><th></th><th scope=col>mpg</th><th scope=col>cyl</th><th scope=col>disp</th><th scope=col>hp</th><th scope=col>drat</th><th scope=col>wt</th><th scope=col>qsec</th><th scope=col>vs</th><th scope=col>am</th><th scope=col>gear</th><th scope=col>carb</th></tr>\n",
              "\t<tr><th></th><th scope=col>&lt;dbl&gt;</th><th scope=col>&lt;fct&gt;</th><th scope=col>&lt;dbl&gt;</th><th scope=col>&lt;dbl&gt;</th><th scope=col>&lt;dbl&gt;</th><th scope=col>&lt;dbl&gt;</th><th scope=col>&lt;dbl&gt;</th><th scope=col>&lt;dbl&gt;</th><th scope=col>&lt;dbl&gt;</th><th scope=col>&lt;dbl&gt;</th><th scope=col>&lt;dbl&gt;</th></tr>\n",
              "</thead>\n",
              "<tbody>\n",
              "\t<tr><th scope=row>Mazda RX4</th><td>21.0</td><td>6</td><td>160</td><td>110</td><td>3.90</td><td>2.620</td><td>16.46</td><td>0</td><td>1</td><td>4</td><td>4</td></tr>\n",
              "\t<tr><th scope=row>Mazda RX4 Wag</th><td>21.0</td><td>6</td><td>160</td><td>110</td><td>3.90</td><td>2.875</td><td>17.02</td><td>0</td><td>1</td><td>4</td><td>4</td></tr>\n",
              "\t<tr><th scope=row>Datsun 710</th><td>22.8</td><td>4</td><td>108</td><td> 93</td><td>3.85</td><td>2.320</td><td>18.61</td><td>1</td><td>1</td><td>4</td><td>1</td></tr>\n",
              "\t<tr><th scope=row>Hornet 4 Drive</th><td>21.4</td><td>6</td><td>258</td><td>110</td><td>3.08</td><td>3.215</td><td>19.44</td><td>1</td><td>0</td><td>3</td><td>1</td></tr>\n",
              "\t<tr><th scope=row>Hornet Sportabout</th><td>18.7</td><td>8</td><td>360</td><td>175</td><td>3.15</td><td>3.440</td><td>17.02</td><td>0</td><td>0</td><td>3</td><td>2</td></tr>\n",
              "\t<tr><th scope=row>Valiant</th><td>18.1</td><td>6</td><td>225</td><td>105</td><td>2.76</td><td>3.460</td><td>20.22</td><td>1</td><td>0</td><td>3</td><td>1</td></tr>\n",
              "</tbody>\n",
              "</table>\n"
            ],
            "text/markdown": "\nA data.frame: 6 × 11\n\n| <!--/--> | mpg &lt;dbl&gt; | cyl &lt;fct&gt; | disp &lt;dbl&gt; | hp &lt;dbl&gt; | drat &lt;dbl&gt; | wt &lt;dbl&gt; | qsec &lt;dbl&gt; | vs &lt;dbl&gt; | am &lt;dbl&gt; | gear &lt;dbl&gt; | carb &lt;dbl&gt; |\n|---|---|---|---|---|---|---|---|---|---|---|---|\n| Mazda RX4 | 21.0 | 6 | 160 | 110 | 3.90 | 2.620 | 16.46 | 0 | 1 | 4 | 4 |\n| Mazda RX4 Wag | 21.0 | 6 | 160 | 110 | 3.90 | 2.875 | 17.02 | 0 | 1 | 4 | 4 |\n| Datsun 710 | 22.8 | 4 | 108 |  93 | 3.85 | 2.320 | 18.61 | 1 | 1 | 4 | 1 |\n| Hornet 4 Drive | 21.4 | 6 | 258 | 110 | 3.08 | 3.215 | 19.44 | 1 | 0 | 3 | 1 |\n| Hornet Sportabout | 18.7 | 8 | 360 | 175 | 3.15 | 3.440 | 17.02 | 0 | 0 | 3 | 2 |\n| Valiant | 18.1 | 6 | 225 | 105 | 2.76 | 3.460 | 20.22 | 1 | 0 | 3 | 1 |\n\n",
            "text/latex": "A data.frame: 6 × 11\n\\begin{tabular}{r|lllllllllll}\n  & mpg & cyl & disp & hp & drat & wt & qsec & vs & am & gear & carb\\\\\n  & <dbl> & <fct> & <dbl> & <dbl> & <dbl> & <dbl> & <dbl> & <dbl> & <dbl> & <dbl> & <dbl>\\\\\n\\hline\n\tMazda RX4 & 21.0 & 6 & 160 & 110 & 3.90 & 2.620 & 16.46 & 0 & 1 & 4 & 4\\\\\n\tMazda RX4 Wag & 21.0 & 6 & 160 & 110 & 3.90 & 2.875 & 17.02 & 0 & 1 & 4 & 4\\\\\n\tDatsun 710 & 22.8 & 4 & 108 &  93 & 3.85 & 2.320 & 18.61 & 1 & 1 & 4 & 1\\\\\n\tHornet 4 Drive & 21.4 & 6 & 258 & 110 & 3.08 & 3.215 & 19.44 & 1 & 0 & 3 & 1\\\\\n\tHornet Sportabout & 18.7 & 8 & 360 & 175 & 3.15 & 3.440 & 17.02 & 0 & 0 & 3 & 2\\\\\n\tValiant & 18.1 & 6 & 225 & 105 & 2.76 & 3.460 & 20.22 & 1 & 0 & 3 & 1\\\\\n\\end{tabular}\n",
            "text/plain": [
              "                  mpg  cyl disp hp  drat wt    qsec  vs am gear carb\n",
              "Mazda RX4         21.0 6   160  110 3.90 2.620 16.46 0  1  4    4   \n",
              "Mazda RX4 Wag     21.0 6   160  110 3.90 2.875 17.02 0  1  4    4   \n",
              "Datsun 710        22.8 4   108   93 3.85 2.320 18.61 1  1  4    1   \n",
              "Hornet 4 Drive    21.4 6   258  110 3.08 3.215 19.44 1  0  3    1   \n",
              "Hornet Sportabout 18.7 8   360  175 3.15 3.440 17.02 0  0  3    2   \n",
              "Valiant           18.1 6   225  105 2.76 3.460 20.22 1  0  3    1   "
            ]
          },
          "metadata": {}
        }
      ]
    },
    {
      "cell_type": "code",
      "source": [
        "summary(fit2)"
      ],
      "metadata": {
        "colab": {
          "base_uri": "https://localhost:8080/",
          "height": 347
        },
        "id": "6e279fnzUKzS",
        "outputId": "61ff725d-6626-4514-cab9-cb5a8cd4d043"
      },
      "execution_count": 16,
      "outputs": [
        {
          "output_type": "display_data",
          "data": {
            "text/plain": [
              "\n",
              "Call:\n",
              "lm(formula = mpg ~ cyl, data = NewData)\n",
              "\n",
              "Residuals:\n",
              "    Min      1Q  Median      3Q     Max \n",
              "-5.2636 -1.8357  0.0286  1.3893  7.2364 \n",
              "\n",
              "Coefficients:\n",
              "            Estimate Std. Error t value Pr(>|t|)    \n",
              "(Intercept)  26.6636     0.9718  27.437  < 2e-16 ***\n",
              "cyl6         -6.9208     1.5583  -4.441 0.000119 ***\n",
              "cyl8        -11.5636     1.2986  -8.905 8.57e-10 ***\n",
              "---\n",
              "Signif. codes:  0 ‘***’ 0.001 ‘**’ 0.01 ‘*’ 0.05 ‘.’ 0.1 ‘ ’ 1\n",
              "\n",
              "Residual standard error: 3.223 on 29 degrees of freedom\n",
              "Multiple R-squared:  0.7325,\tAdjusted R-squared:  0.714 \n",
              "F-statistic:  39.7 on 2 and 29 DF,  p-value: 4.979e-09\n"
            ]
          },
          "metadata": {}
        }
      ]
    },
    {
      "cell_type": "code",
      "source": [
        "model.matrix(fit2)\n",
        "#gives design matrix"
      ],
      "metadata": {
        "colab": {
          "base_uri": "https://localhost:8080/",
          "height": 1000
        },
        "id": "7qks7UToUOHc",
        "outputId": "333b68cd-afe0-4fa9-bbfd-917989707af8"
      },
      "execution_count": 17,
      "outputs": [
        {
          "output_type": "display_data",
          "data": {
            "text/html": [
              "<table class=\"dataframe\">\n",
              "<caption>A matrix: 32 × 3 of type dbl</caption>\n",
              "<thead>\n",
              "\t<tr><th></th><th scope=col>(Intercept)</th><th scope=col>cyl6</th><th scope=col>cyl8</th></tr>\n",
              "</thead>\n",
              "<tbody>\n",
              "\t<tr><th scope=row>Mazda RX4</th><td>1</td><td>1</td><td>0</td></tr>\n",
              "\t<tr><th scope=row>Mazda RX4 Wag</th><td>1</td><td>1</td><td>0</td></tr>\n",
              "\t<tr><th scope=row>Datsun 710</th><td>1</td><td>0</td><td>0</td></tr>\n",
              "\t<tr><th scope=row>Hornet 4 Drive</th><td>1</td><td>1</td><td>0</td></tr>\n",
              "\t<tr><th scope=row>Hornet Sportabout</th><td>1</td><td>0</td><td>1</td></tr>\n",
              "\t<tr><th scope=row>Valiant</th><td>1</td><td>1</td><td>0</td></tr>\n",
              "\t<tr><th scope=row>Duster 360</th><td>1</td><td>0</td><td>1</td></tr>\n",
              "\t<tr><th scope=row>Merc 240D</th><td>1</td><td>0</td><td>0</td></tr>\n",
              "\t<tr><th scope=row>Merc 230</th><td>1</td><td>0</td><td>0</td></tr>\n",
              "\t<tr><th scope=row>Merc 280</th><td>1</td><td>1</td><td>0</td></tr>\n",
              "\t<tr><th scope=row>Merc 280C</th><td>1</td><td>1</td><td>0</td></tr>\n",
              "\t<tr><th scope=row>Merc 450SE</th><td>1</td><td>0</td><td>1</td></tr>\n",
              "\t<tr><th scope=row>Merc 450SL</th><td>1</td><td>0</td><td>1</td></tr>\n",
              "\t<tr><th scope=row>Merc 450SLC</th><td>1</td><td>0</td><td>1</td></tr>\n",
              "\t<tr><th scope=row>Cadillac Fleetwood</th><td>1</td><td>0</td><td>1</td></tr>\n",
              "\t<tr><th scope=row>Lincoln Continental</th><td>1</td><td>0</td><td>1</td></tr>\n",
              "\t<tr><th scope=row>Chrysler Imperial</th><td>1</td><td>0</td><td>1</td></tr>\n",
              "\t<tr><th scope=row>Fiat 128</th><td>1</td><td>0</td><td>0</td></tr>\n",
              "\t<tr><th scope=row>Honda Civic</th><td>1</td><td>0</td><td>0</td></tr>\n",
              "\t<tr><th scope=row>Toyota Corolla</th><td>1</td><td>0</td><td>0</td></tr>\n",
              "\t<tr><th scope=row>Toyota Corona</th><td>1</td><td>0</td><td>0</td></tr>\n",
              "\t<tr><th scope=row>Dodge Challenger</th><td>1</td><td>0</td><td>1</td></tr>\n",
              "\t<tr><th scope=row>AMC Javelin</th><td>1</td><td>0</td><td>1</td></tr>\n",
              "\t<tr><th scope=row>Camaro Z28</th><td>1</td><td>0</td><td>1</td></tr>\n",
              "\t<tr><th scope=row>Pontiac Firebird</th><td>1</td><td>0</td><td>1</td></tr>\n",
              "\t<tr><th scope=row>Fiat X1-9</th><td>1</td><td>0</td><td>0</td></tr>\n",
              "\t<tr><th scope=row>Porsche 914-2</th><td>1</td><td>0</td><td>0</td></tr>\n",
              "\t<tr><th scope=row>Lotus Europa</th><td>1</td><td>0</td><td>0</td></tr>\n",
              "\t<tr><th scope=row>Ford Pantera L</th><td>1</td><td>0</td><td>1</td></tr>\n",
              "\t<tr><th scope=row>Ferrari Dino</th><td>1</td><td>1</td><td>0</td></tr>\n",
              "\t<tr><th scope=row>Maserati Bora</th><td>1</td><td>0</td><td>1</td></tr>\n",
              "\t<tr><th scope=row>Volvo 142E</th><td>1</td><td>0</td><td>0</td></tr>\n",
              "</tbody>\n",
              "</table>\n"
            ],
            "text/markdown": "\nA matrix: 32 × 3 of type dbl\n\n| <!--/--> | (Intercept) | cyl6 | cyl8 |\n|---|---|---|---|\n| Mazda RX4 | 1 | 1 | 0 |\n| Mazda RX4 Wag | 1 | 1 | 0 |\n| Datsun 710 | 1 | 0 | 0 |\n| Hornet 4 Drive | 1 | 1 | 0 |\n| Hornet Sportabout | 1 | 0 | 1 |\n| Valiant | 1 | 1 | 0 |\n| Duster 360 | 1 | 0 | 1 |\n| Merc 240D | 1 | 0 | 0 |\n| Merc 230 | 1 | 0 | 0 |\n| Merc 280 | 1 | 1 | 0 |\n| Merc 280C | 1 | 1 | 0 |\n| Merc 450SE | 1 | 0 | 1 |\n| Merc 450SL | 1 | 0 | 1 |\n| Merc 450SLC | 1 | 0 | 1 |\n| Cadillac Fleetwood | 1 | 0 | 1 |\n| Lincoln Continental | 1 | 0 | 1 |\n| Chrysler Imperial | 1 | 0 | 1 |\n| Fiat 128 | 1 | 0 | 0 |\n| Honda Civic | 1 | 0 | 0 |\n| Toyota Corolla | 1 | 0 | 0 |\n| Toyota Corona | 1 | 0 | 0 |\n| Dodge Challenger | 1 | 0 | 1 |\n| AMC Javelin | 1 | 0 | 1 |\n| Camaro Z28 | 1 | 0 | 1 |\n| Pontiac Firebird | 1 | 0 | 1 |\n| Fiat X1-9 | 1 | 0 | 0 |\n| Porsche 914-2 | 1 | 0 | 0 |\n| Lotus Europa | 1 | 0 | 0 |\n| Ford Pantera L | 1 | 0 | 1 |\n| Ferrari Dino | 1 | 1 | 0 |\n| Maserati Bora | 1 | 0 | 1 |\n| Volvo 142E | 1 | 0 | 0 |\n\n",
            "text/latex": "A matrix: 32 × 3 of type dbl\n\\begin{tabular}{r|lll}\n  & (Intercept) & cyl6 & cyl8\\\\\n\\hline\n\tMazda RX4 & 1 & 1 & 0\\\\\n\tMazda RX4 Wag & 1 & 1 & 0\\\\\n\tDatsun 710 & 1 & 0 & 0\\\\\n\tHornet 4 Drive & 1 & 1 & 0\\\\\n\tHornet Sportabout & 1 & 0 & 1\\\\\n\tValiant & 1 & 1 & 0\\\\\n\tDuster 360 & 1 & 0 & 1\\\\\n\tMerc 240D & 1 & 0 & 0\\\\\n\tMerc 230 & 1 & 0 & 0\\\\\n\tMerc 280 & 1 & 1 & 0\\\\\n\tMerc 280C & 1 & 1 & 0\\\\\n\tMerc 450SE & 1 & 0 & 1\\\\\n\tMerc 450SL & 1 & 0 & 1\\\\\n\tMerc 450SLC & 1 & 0 & 1\\\\\n\tCadillac Fleetwood & 1 & 0 & 1\\\\\n\tLincoln Continental & 1 & 0 & 1\\\\\n\tChrysler Imperial & 1 & 0 & 1\\\\\n\tFiat 128 & 1 & 0 & 0\\\\\n\tHonda Civic & 1 & 0 & 0\\\\\n\tToyota Corolla & 1 & 0 & 0\\\\\n\tToyota Corona & 1 & 0 & 0\\\\\n\tDodge Challenger & 1 & 0 & 1\\\\\n\tAMC Javelin & 1 & 0 & 1\\\\\n\tCamaro Z28 & 1 & 0 & 1\\\\\n\tPontiac Firebird & 1 & 0 & 1\\\\\n\tFiat X1-9 & 1 & 0 & 0\\\\\n\tPorsche 914-2 & 1 & 0 & 0\\\\\n\tLotus Europa & 1 & 0 & 0\\\\\n\tFord Pantera L & 1 & 0 & 1\\\\\n\tFerrari Dino & 1 & 1 & 0\\\\\n\tMaserati Bora & 1 & 0 & 1\\\\\n\tVolvo 142E & 1 & 0 & 0\\\\\n\\end{tabular}\n",
            "text/plain": [
              "                    (Intercept) cyl6 cyl8\n",
              "Mazda RX4           1           1    0   \n",
              "Mazda RX4 Wag       1           1    0   \n",
              "Datsun 710          1           0    0   \n",
              "Hornet 4 Drive      1           1    0   \n",
              "Hornet Sportabout   1           0    1   \n",
              "Valiant             1           1    0   \n",
              "Duster 360          1           0    1   \n",
              "Merc 240D           1           0    0   \n",
              "Merc 230            1           0    0   \n",
              "Merc 280            1           1    0   \n",
              "Merc 280C           1           1    0   \n",
              "Merc 450SE          1           0    1   \n",
              "Merc 450SL          1           0    1   \n",
              "Merc 450SLC         1           0    1   \n",
              "Cadillac Fleetwood  1           0    1   \n",
              "Lincoln Continental 1           0    1   \n",
              "Chrysler Imperial   1           0    1   \n",
              "Fiat 128            1           0    0   \n",
              "Honda Civic         1           0    0   \n",
              "Toyota Corolla      1           0    0   \n",
              "Toyota Corona       1           0    0   \n",
              "Dodge Challenger    1           0    1   \n",
              "AMC Javelin         1           0    1   \n",
              "Camaro Z28          1           0    1   \n",
              "Pontiac Firebird    1           0    1   \n",
              "Fiat X1-9           1           0    0   \n",
              "Porsche 914-2       1           0    0   \n",
              "Lotus Europa        1           0    0   \n",
              "Ford Pantera L      1           0    1   \n",
              "Ferrari Dino        1           1    0   \n",
              "Maserati Bora       1           0    1   \n",
              "Volvo 142E          1           0    0   "
            ]
          },
          "metadata": {}
        }
      ]
    },
    {
      "cell_type": "code",
      "source": [
        "fit0 <- lm(mpg~1, data=NewData)"
      ],
      "metadata": {
        "id": "vm5hiKzeUukJ"
      },
      "execution_count": 18,
      "outputs": []
    },
    {
      "cell_type": "code",
      "source": [
        "library(ggplot2)\n",
        "data(mtcars)\n",
        "\n",
        "#fits the regression model\n",
        "fit <- lm(mpg ~ wt, data = mtcars)\n",
        "summary(fit)\n",
        "\n",
        "# Hypotheses:\n",
        "# H0: The coefficient for wt is zero (no effect on mpg)\n",
        "# H1: The coefficient for wt is not zero (wt has an effect on mpg)\n",
        "#in this case, comparing a model with one factor to a model with no factor will perform a hypothesis test\n",
        "anova(fit)\n",
        "\n",
        "#plots regression line\n",
        "plot(mtcars$wt, mtcars$mpg, main = \"Regression of MPG on Weight\",\n",
        "     xlab = \"Weight (1000 lbs)\", ylab = \"Miles per Gallon\", pch = 19)\n",
        "abline(fit, col = \"blue\", lwd = 2)\n"
      ],
      "metadata": {
        "colab": {
          "base_uri": "https://localhost:8080/",
          "height": 893
        },
        "id": "upahWeTVVNLz",
        "outputId": "895a81ce-5fd7-4150-e105-d952a6e1e0bc"
      },
      "execution_count": 20,
      "outputs": [
        {
          "output_type": "display_data",
          "data": {
            "text/plain": [
              "\n",
              "Call:\n",
              "lm(formula = mpg ~ wt, data = mtcars)\n",
              "\n",
              "Residuals:\n",
              "    Min      1Q  Median      3Q     Max \n",
              "-4.5432 -2.3647 -0.1252  1.4096  6.8727 \n",
              "\n",
              "Coefficients:\n",
              "            Estimate Std. Error t value Pr(>|t|)    \n",
              "(Intercept)  37.2851     1.8776  19.858  < 2e-16 ***\n",
              "wt           -5.3445     0.5591  -9.559 1.29e-10 ***\n",
              "---\n",
              "Signif. codes:  0 ‘***’ 0.001 ‘**’ 0.01 ‘*’ 0.05 ‘.’ 0.1 ‘ ’ 1\n",
              "\n",
              "Residual standard error: 3.046 on 30 degrees of freedom\n",
              "Multiple R-squared:  0.7528,\tAdjusted R-squared:  0.7446 \n",
              "F-statistic: 91.38 on 1 and 30 DF,  p-value: 1.294e-10\n"
            ]
          },
          "metadata": {}
        },
        {
          "output_type": "display_data",
          "data": {
            "text/html": [
              "<table class=\"dataframe\">\n",
              "<caption>A anova: 2 × 5</caption>\n",
              "<thead>\n",
              "\t<tr><th></th><th scope=col>Df</th><th scope=col>Sum Sq</th><th scope=col>Mean Sq</th><th scope=col>F value</th><th scope=col>Pr(&gt;F)</th></tr>\n",
              "\t<tr><th></th><th scope=col>&lt;int&gt;</th><th scope=col>&lt;dbl&gt;</th><th scope=col>&lt;dbl&gt;</th><th scope=col>&lt;dbl&gt;</th><th scope=col>&lt;dbl&gt;</th></tr>\n",
              "</thead>\n",
              "<tbody>\n",
              "\t<tr><th scope=row>wt</th><td> 1</td><td>847.7252</td><td>847.725250</td><td>91.37533</td><td>1.293959e-10</td></tr>\n",
              "\t<tr><th scope=row>Residuals</th><td>30</td><td>278.3219</td><td>  9.277398</td><td>      NA</td><td>          NA</td></tr>\n",
              "</tbody>\n",
              "</table>\n"
            ],
            "text/markdown": "\nA anova: 2 × 5\n\n| <!--/--> | Df &lt;int&gt; | Sum Sq &lt;dbl&gt; | Mean Sq &lt;dbl&gt; | F value &lt;dbl&gt; | Pr(&gt;F) &lt;dbl&gt; |\n|---|---|---|---|---|---|\n| wt |  1 | 847.7252 | 847.725250 | 91.37533 | 1.293959e-10 |\n| Residuals | 30 | 278.3219 |   9.277398 |       NA |           NA |\n\n",
            "text/latex": "A anova: 2 × 5\n\\begin{tabular}{r|lllll}\n  & Df & Sum Sq & Mean Sq & F value & Pr(>F)\\\\\n  & <int> & <dbl> & <dbl> & <dbl> & <dbl>\\\\\n\\hline\n\twt &  1 & 847.7252 & 847.725250 & 91.37533 & 1.293959e-10\\\\\n\tResiduals & 30 & 278.3219 &   9.277398 &       NA &           NA\\\\\n\\end{tabular}\n",
            "text/plain": [
              "          Df Sum Sq   Mean Sq    F value  Pr(>F)      \n",
              "wt         1 847.7252 847.725250 91.37533 1.293959e-10\n",
              "Residuals 30 278.3219   9.277398       NA           NA"
            ]
          },
          "metadata": {}
        },
        {
          "output_type": "display_data",
          "data": {
            "text/plain": [
              "Plot with title “Regression of MPG on Weight”"
            ],
            "image/png": "[encoded data removed]"
          },
          "metadata": {
            "image/png": {
              "width": 420,
              "height": 420
            }
          }
        }
      ]
    },
    {
      "cell_type": "code",
      "source": [
        "fit <- lm(mpg ~ am, data=NewData)\n",
        "\n",
        "#function summary gives you more information\n",
        "summary(fit)"
      ],
      "metadata": {
        "colab": {
          "base_uri": "https://localhost:8080/",
          "height": 329
        },
        "id": "HCg_knUsWf1x",
        "outputId": "82243da8-ebaa-4499-bbf9-4cdeb3dcc08f"
      },
      "execution_count": 21,
      "outputs": [
        {
          "output_type": "display_data",
          "data": {
            "text/plain": [
              "\n",
              "Call:\n",
              "lm(formula = mpg ~ am, data = NewData)\n",
              "\n",
              "Residuals:\n",
              "    Min      1Q  Median      3Q     Max \n",
              "-9.3923 -3.0923 -0.2974  3.2439  9.5077 \n",
              "\n",
              "Coefficients:\n",
              "            Estimate Std. Error t value Pr(>|t|)    \n",
              "(Intercept)   17.147      1.125  15.247 1.13e-15 ***\n",
              "am             7.245      1.764   4.106 0.000285 ***\n",
              "---\n",
              "Signif. codes:  0 ‘***’ 0.001 ‘**’ 0.01 ‘*’ 0.05 ‘.’ 0.1 ‘ ’ 1\n",
              "\n",
              "Residual standard error: 4.902 on 30 degrees of freedom\n",
              "Multiple R-squared:  0.3598,\tAdjusted R-squared:  0.3385 \n",
              "F-statistic: 16.86 on 1 and 30 DF,  p-value: 0.000285\n"
            ]
          },
          "metadata": {}
        }
      ]
    },
    {
      "cell_type": "code",
      "source": [
        "fit0 <- lm(mpg ~ 1, data=NewData)\n",
        "\n",
        "#model that has only one factor, so can use anova, compare null model with model that includes tha factor am\n",
        "anova(fit, fit0)"
      ],
      "metadata": {
        "colab": {
          "base_uri": "https://localhost:8080/",
          "height": 161
        },
        "id": "7p32zuNkZrjB",
        "outputId": "ca065cd3-3f7f-43f6-c381-0ae970bf8926"
      },
      "execution_count": 23,
      "outputs": [
        {
          "output_type": "display_data",
          "data": {
            "text/html": [
              "<table class=\"dataframe\">\n",
              "<caption>A anova: 2 × 6</caption>\n",
              "<thead>\n",
              "\t<tr><th></th><th scope=col>Res.Df</th><th scope=col>RSS</th><th scope=col>Df</th><th scope=col>Sum of Sq</th><th scope=col>F</th><th scope=col>Pr(&gt;F)</th></tr>\n",
              "\t<tr><th></th><th scope=col>&lt;dbl&gt;</th><th scope=col>&lt;dbl&gt;</th><th scope=col>&lt;dbl&gt;</th><th scope=col>&lt;dbl&gt;</th><th scope=col>&lt;dbl&gt;</th><th scope=col>&lt;dbl&gt;</th></tr>\n",
              "</thead>\n",
              "<tbody>\n",
              "\t<tr><th scope=row>1</th><td>30</td><td> 720.8966</td><td>NA</td><td>       NA</td><td>      NA</td><td>          NA</td></tr>\n",
              "\t<tr><th scope=row>2</th><td>31</td><td>1126.0472</td><td>-1</td><td>-405.1506</td><td>16.86028</td><td>0.0002850207</td></tr>\n",
              "</tbody>\n",
              "</table>\n"
            ],
            "text/markdown": "\nA anova: 2 × 6\n\n| <!--/--> | Res.Df &lt;dbl&gt; | RSS &lt;dbl&gt; | Df &lt;dbl&gt; | Sum of Sq &lt;dbl&gt; | F &lt;dbl&gt; | Pr(&gt;F) &lt;dbl&gt; |\n|---|---|---|---|---|---|---|\n| 1 | 30 |  720.8966 | NA |        NA |       NA |           NA |\n| 2 | 31 | 1126.0472 | -1 | -405.1506 | 16.86028 | 0.0002850207 |\n\n",
            "text/latex": "A anova: 2 × 6\n\\begin{tabular}{r|llllll}\n  & Res.Df & RSS & Df & Sum of Sq & F & Pr(>F)\\\\\n  & <dbl> & <dbl> & <dbl> & <dbl> & <dbl> & <dbl>\\\\\n\\hline\n\t1 & 30 &  720.8966 & NA &        NA &       NA &           NA\\\\\n\t2 & 31 & 1126.0472 & -1 & -405.1506 & 16.86028 & 0.0002850207\\\\\n\\end{tabular}\n",
            "text/plain": [
              "  Res.Df RSS       Df Sum of Sq F        Pr(>F)      \n",
              "1 30      720.8966 NA        NA       NA           NA\n",
              "2 31     1126.0472 -1 -405.1506 16.86028 0.0002850207"
            ]
          },
          "metadata": {}
        }
      ]
    },
    {
      "cell_type": "code",
      "source": [],
      "metadata": {
        "id": "YWVTsBOTZzmR"
      },
      "execution_count": null,
      "outputs": []
    }
  ]
}
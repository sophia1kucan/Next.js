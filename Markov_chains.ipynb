{
  "nbformat": 4,
  "nbformat_minor": 0,
  "metadata": {
    "colab": {
      "provenance": [],
      "authorship_tag": "ABX9TyN4gurzoP+5pUE6Z54UaHq7",
      "include_colab_link": true
    },
    "kernelspec": {
      "name": "ir",
      "display_name": "R"
    },
    "language_info": {
      "name": "R"
    }
  },
  "cells": [
    {
      "cell_type": "markdown",
      "metadata": {
        "id": "view-in-github",
        "colab_type": "text"
      },
      "source": [
        "<a href=\"https://colab.research.google.com/github/sophia1kucan/Next.js/blob/stats/Markov_chains.ipynb\" target=\"_parent\"><img src=\"https://colab.research.google.com/assets/colab-badge.svg\" alt=\"Open In Colab\"/></a>"
      ]
    },
    {
      "cell_type": "code",
      "execution_count": 1,
      "metadata": {
        "colab": {
          "base_uri": "https://localhost:8080/",
          "height": 34
        },
        "id": "Sgcb4oNyakus",
        "outputId": "7f7ece23-f8bf-497f-fede-1422b532d522"
      },
      "outputs": [
        {
          "output_type": "display_data",
          "data": {
            "text/html": [
              "<style>\n",
              ".list-inline {list-style: none; margin:0; padding: 0}\n",
              ".list-inline>li {display: inline-block}\n",
              ".list-inline>li:not(:last-child)::after {content: \"\\00b7\"; padding: 0 .5ex}\n",
              "</style>\n",
              "<ol class=list-inline><li>'B'</li><li>'B'</li><li>'B'</li><li>'B'</li><li>'A'</li><li>'A'</li><li>'A'</li><li>'B'</li><li>'A'</li><li>'A'</li></ol>\n"
            ],
            "text/markdown": "1. 'B'\n2. 'B'\n3. 'B'\n4. 'B'\n5. 'A'\n6. 'A'\n7. 'A'\n8. 'B'\n9. 'A'\n10. 'A'\n\n\n",
            "text/latex": "\\begin{enumerate*}\n\\item 'B'\n\\item 'B'\n\\item 'B'\n\\item 'B'\n\\item 'A'\n\\item 'A'\n\\item 'A'\n\\item 'B'\n\\item 'A'\n\\item 'A'\n\\end{enumerate*}\n",
            "text/plain": [
              " [1] \"B\" \"B\" \"B\" \"B\" \"A\" \"A\" \"A\" \"B\" \"A\" \"A\""
            ]
          },
          "metadata": {}
        }
      ],
      "source": [
        "# Define the transition probabilities\n",
        "transition_probabilities <- matrix(c(0.6, 0.4, 0.3, 0.7),\n",
        "nrow = 2,\n",
        "byrow = TRUE,    #fills the matrix row by row\n",
        "dimnames = list(c(\"A\", \"B\"), c(\"A\", \"B\")))    #names each row and column of the matrix\n",
        "\n",
        "# Define the initial state\n",
        "current_state <- \"A\"\n",
        "# Simulate the Markov chain for 10 steps\n",
        "chain <- character(10)   #gives a vector to store the results, use character because its a and b, 10 = length of chain\n",
        "chain[1] <- current_state   #gives current chain the inital value\n",
        "for (i in 2:10) {      #itterations, for each step draws the future step according to transition prob\n",
        "current_state <- sample(c(\"A\", \"B\"), size = 1, prob =    #assigns current chain to created chain\n",
        "transition_probabilities[current_state,])\n",
        "chain[i] <- current_state\n",
        "}\n",
        "\n",
        "\n",
        "# If initial distribution is given\n",
        "initial_distribution <- matrix(c(0.2, 0.8),     #generates an initial distribution\n",
        "nrow = 1,\n",
        "byrow = TRUE,\n",
        "dimnames = list(c(\"X_0\"), c(\"A\", \"B\") ))     #only has columns a and b\n",
        "current_state <- sample(c(\"A\", \"B\"), size = 1, prob = initial_distribution[\"X_0\",])   #simulates the first chain\n",
        "# Simulate the Markov chain for 10 steps\n",
        "chain <- character(10)\n",
        "chain[1] <- current_state\n",
        "for (i in 2:10)\n",
        "\n",
        "\n",
        "{current_state <- sample(c(\"A\", \"B\"), size = 1, prob =\n",
        "transition_probabilities[current_state,])\n",
        "chain[i] <- current_state\n",
        "}\n",
        "\n",
        "chain\n",
        ""
      ]
    },
    {
      "cell_type": "code",
      "source": [
        "# Define the transition probabilities\n",
        "transition_probabilities\n"
      ],
      "metadata": {
        "colab": {
          "base_uri": "https://localhost:8080/",
          "height": 147
        },
        "id": "XR3saPK0bhnz",
        "outputId": "80cd0673-c806-4302-9285-69ea0c83497a"
      },
      "execution_count": 4,
      "outputs": [
        {
          "output_type": "display_data",
          "data": {
            "text/html": [
              "<table class=\"dataframe\">\n",
              "<caption>A matrix: 2 × 2 of type dbl</caption>\n",
              "<thead>\n",
              "\t<tr><th></th><th scope=col>A</th><th scope=col>B</th></tr>\n",
              "</thead>\n",
              "<tbody>\n",
              "\t<tr><th scope=row>A</th><td>0.6</td><td>0.4</td></tr>\n",
              "\t<tr><th scope=row>B</th><td>0.3</td><td>0.7</td></tr>\n",
              "</tbody>\n",
              "</table>\n"
            ],
            "text/markdown": "\nA matrix: 2 × 2 of type dbl\n\n| <!--/--> | A | B |\n|---|---|---|\n| A | 0.6 | 0.4 |\n| B | 0.3 | 0.7 |\n\n",
            "text/latex": "A matrix: 2 × 2 of type dbl\n\\begin{tabular}{r|ll}\n  & A & B\\\\\n\\hline\n\tA & 0.6 & 0.4\\\\\n\tB & 0.3 & 0.7\\\\\n\\end{tabular}\n",
            "text/plain": [
              "  A   B  \n",
              "A 0.6 0.4\n",
              "B 0.3 0.7"
            ]
          },
          "metadata": {}
        }
      ]
    },
    {
      "cell_type": "code",
      "source": [
        "chain <- character(100)\n",
        "for (i in 1:100)\n",
        "{ chain[i] <- sample(c(\"1\", \"2\", \"3\", \"4\", \"5\", \"6\"), size = 1, prob = c(1/6, 1/6, 1/6, 1/6, 1/6, 1/6))}\n",
        "chain\n",
        "chain[100]\n",
        "\n",
        "\n",
        ""
      ],
      "metadata": {
        "colab": {
          "base_uri": "https://localhost:8080/",
          "height": 121
        },
        "id": "yy-wo8oydSJy",
        "outputId": "f51f268b-bbaf-4377-b0d7-a1d8bf86e4bd"
      },
      "execution_count": 12,
      "outputs": [
        {
          "output_type": "display_data",
          "data": {
            "text/html": [
              "<style>\n",
              ".list-inline {list-style: none; margin:0; padding: 0}\n",
              ".list-inline>li {display: inline-block}\n",
              ".list-inline>li:not(:last-child)::after {content: \"\\00b7\"; padding: 0 .5ex}\n",
              "</style>\n",
              "<ol class=list-inline><li>'3'</li><li>'6'</li><li>'2'</li><li>'6'</li><li>'5'</li><li>'3'</li><li>'4'</li><li>'3'</li><li>'1'</li><li>'4'</li><li>'2'</li><li>'3'</li><li>'4'</li><li>'2'</li><li>'1'</li><li>'2'</li><li>'1'</li><li>'6'</li><li>'5'</li><li>'3'</li><li>'6'</li><li>'3'</li><li>'2'</li><li>'5'</li><li>'4'</li><li>'4'</li><li>'1'</li><li>'1'</li><li>'1'</li><li>'2'</li><li>'3'</li><li>'2'</li><li>'4'</li><li>'2'</li><li>'4'</li><li>'4'</li><li>'2'</li><li>'1'</li><li>'1'</li><li>'6'</li><li>'4'</li><li>'1'</li><li>'4'</li><li>'5'</li><li>'3'</li><li>'5'</li><li>'5'</li><li>'6'</li><li>'6'</li><li>'1'</li><li>'1'</li><li>'3'</li><li>'3'</li><li>'6'</li><li>'6'</li><li>'4'</li><li>'4'</li><li>'5'</li><li>'3'</li><li>'3'</li><li>'4'</li><li>'2'</li><li>'2'</li><li>'6'</li><li>'2'</li><li>'4'</li><li>'2'</li><li>'2'</li><li>'3'</li><li>'5'</li><li>'2'</li><li>'1'</li><li>'6'</li><li>'3'</li><li>'6'</li><li>'4'</li><li>'2'</li><li>'2'</li><li>'5'</li><li>'6'</li><li>'1'</li><li>'5'</li><li>'1'</li><li>'6'</li><li>'5'</li><li>'5'</li><li>'5'</li><li>'1'</li><li>'6'</li><li>'5'</li><li>'2'</li><li>'3'</li><li>'4'</li><li>'6'</li><li>'5'</li><li>'6'</li><li>'3'</li><li>'3'</li><li>'3'</li><li>'4'</li></ol>\n"
            ],
            "text/markdown": "1. '3'\n2. '6'\n3. '2'\n4. '6'\n5. '5'\n6. '3'\n7. '4'\n8. '3'\n9. '1'\n10. '4'\n11. '2'\n12. '3'\n13. '4'\n14. '2'\n15. '1'\n16. '2'\n17. '1'\n18. '6'\n19. '5'\n20. '3'\n21. '6'\n22. '3'\n23. '2'\n24. '5'\n25. '4'\n26. '4'\n27. '1'\n28. '1'\n29. '1'\n30. '2'\n31. '3'\n32. '2'\n33. '4'\n34. '2'\n35. '4'\n36. '4'\n37. '2'\n38. '1'\n39. '1'\n40. '6'\n41. '4'\n42. '1'\n43. '4'\n44. '5'\n45. '3'\n46. '5'\n47. '5'\n48. '6'\n49. '6'\n50. '1'\n51. '1'\n52. '3'\n53. '3'\n54. '6'\n55. '6'\n56. '4'\n57. '4'\n58. '5'\n59. '3'\n60. '3'\n61. '4'\n62. '2'\n63. '2'\n64. '6'\n65. '2'\n66. '4'\n67. '2'\n68. '2'\n69. '3'\n70. '5'\n71. '2'\n72. '1'\n73. '6'\n74. '3'\n75. '6'\n76. '4'\n77. '2'\n78. '2'\n79. '5'\n80. '6'\n81. '1'\n82. '5'\n83. '1'\n84. '6'\n85. '5'\n86. '5'\n87. '5'\n88. '1'\n89. '6'\n90. '5'\n91. '2'\n92. '3'\n93. '4'\n94. '6'\n95. '5'\n96. '6'\n97. '3'\n98. '3'\n99. '3'\n100. '4'\n\n\n",
            "text/latex": "\\begin{enumerate*}\n\\item '3'\n\\item '6'\n\\item '2'\n\\item '6'\n\\item '5'\n\\item '3'\n\\item '4'\n\\item '3'\n\\item '1'\n\\item '4'\n\\item '2'\n\\item '3'\n\\item '4'\n\\item '2'\n\\item '1'\n\\item '2'\n\\item '1'\n\\item '6'\n\\item '5'\n\\item '3'\n\\item '6'\n\\item '3'\n\\item '2'\n\\item '5'\n\\item '4'\n\\item '4'\n\\item '1'\n\\item '1'\n\\item '1'\n\\item '2'\n\\item '3'\n\\item '2'\n\\item '4'\n\\item '2'\n\\item '4'\n\\item '4'\n\\item '2'\n\\item '1'\n\\item '1'\n\\item '6'\n\\item '4'\n\\item '1'\n\\item '4'\n\\item '5'\n\\item '3'\n\\item '5'\n\\item '5'\n\\item '6'\n\\item '6'\n\\item '1'\n\\item '1'\n\\item '3'\n\\item '3'\n\\item '6'\n\\item '6'\n\\item '4'\n\\item '4'\n\\item '5'\n\\item '3'\n\\item '3'\n\\item '4'\n\\item '2'\n\\item '2'\n\\item '6'\n\\item '2'\n\\item '4'\n\\item '2'\n\\item '2'\n\\item '3'\n\\item '5'\n\\item '2'\n\\item '1'\n\\item '6'\n\\item '3'\n\\item '6'\n\\item '4'\n\\item '2'\n\\item '2'\n\\item '5'\n\\item '6'\n\\item '1'\n\\item '5'\n\\item '1'\n\\item '6'\n\\item '5'\n\\item '5'\n\\item '5'\n\\item '1'\n\\item '6'\n\\item '5'\n\\item '2'\n\\item '3'\n\\item '4'\n\\item '6'\n\\item '5'\n\\item '6'\n\\item '3'\n\\item '3'\n\\item '3'\n\\item '4'\n\\end{enumerate*}\n",
            "text/plain": [
              "  [1] \"3\" \"6\" \"2\" \"6\" \"5\" \"3\" \"4\" \"3\" \"1\" \"4\" \"2\" \"3\" \"4\" \"2\" \"1\" \"2\" \"1\" \"6\"\n",
              " [19] \"5\" \"3\" \"6\" \"3\" \"2\" \"5\" \"4\" \"4\" \"1\" \"1\" \"1\" \"2\" \"3\" \"2\" \"4\" \"2\" \"4\" \"4\"\n",
              " [37] \"2\" \"1\" \"1\" \"6\" \"4\" \"1\" \"4\" \"5\" \"3\" \"5\" \"5\" \"6\" \"6\" \"1\" \"1\" \"3\" \"3\" \"6\"\n",
              " [55] \"6\" \"4\" \"4\" \"5\" \"3\" \"3\" \"4\" \"2\" \"2\" \"6\" \"2\" \"4\" \"2\" \"2\" \"3\" \"5\" \"2\" \"1\"\n",
              " [73] \"6\" \"3\" \"6\" \"4\" \"2\" \"2\" \"5\" \"6\" \"1\" \"5\" \"1\" \"6\" \"5\" \"5\" \"5\" \"1\" \"6\" \"5\"\n",
              " [91] \"2\" \"3\" \"4\" \"6\" \"5\" \"6\" \"3\" \"3\" \"3\" \"4\""
            ]
          },
          "metadata": {}
        },
        {
          "output_type": "display_data",
          "data": {
            "text/html": [
              "'4'"
            ],
            "text/markdown": "'4'",
            "text/latex": "'4'",
            "text/plain": [
              "[1] \"4\""
            ]
          },
          "metadata": {}
        }
      ]
    },
    {
      "cell_type": "code",
      "source": [
        "chain <- numeric(100)\n",
        "current_state <- 0\n",
        "for (i in 1:100)\n",
        "{ chain[i] <- sample(c(0, 1), size = 1, prob = c(1/2, 1/2))\n",
        "current_state <- current_state + chain[i]}\n",
        "\n",
        "current_state\n"
      ],
      "metadata": {
        "colab": {
          "base_uri": "https://localhost:8080/",
          "height": 34
        },
        "id": "PSj8thA0e4t4",
        "outputId": "cf62e08f-4201-4323-a109-e73b9079d588"
      },
      "execution_count": 20,
      "outputs": [
        {
          "output_type": "display_data",
          "data": {
            "text/html": [
              "47"
            ],
            "text/markdown": "47",
            "text/latex": "47",
            "text/plain": [
              "[1] 47"
            ]
          },
          "metadata": {}
        }
      ]
    },
    {
      "cell_type": "code",
      "source": [],
      "metadata": {
        "id": "Wrj_8XSYjkYz"
      },
      "execution_count": null,
      "outputs": []
    }
  ]
}
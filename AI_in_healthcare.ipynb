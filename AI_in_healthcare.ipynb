{
  "nbformat": 4,
  "nbformat_minor": 0,
  "metadata": {
    "colab": {
      "provenance": [],
      "authorship_tag": "ABX9TyMDkbmazlCQg39MpH1lVMsN",
      "include_colab_link": true
    },
    "kernelspec": {
      "name": "python3",
      "display_name": "Python 3"
    },
    "language_info": {
      "name": "python"
    }
  },
  "cells": [
    {
      "cell_type": "markdown",
      "metadata": {
        "id": "view-in-github",
        "colab_type": "text"
      },
      "source": [
        "<a href=\"https://colab.research.google.com/github/sophia1kucan/Next.js/blob/main/AI_in_healthcare.ipynb\" target=\"_parent\"><img src=\"https://colab.research.google.com/assets/colab-badge.svg\" alt=\"Open In Colab\"/></a>"
      ]
    },
    {
      "cell_type": "code",
      "execution_count": null,
      "metadata": {
        "colab": {
          "base_uri": "https://localhost:8080/"
        },
        "id": "7kWIDMiNaeeF",
        "outputId": "4a0c7a88-37a9-433a-b2ec-f06c572e9a64"
      },
      "outputs": [
        {
          "output_type": "stream",
          "name": "stdout",
          "text": [
            "information\n"
          ]
        }
      ],
      "source": [
        "print('information')"
      ]
    },
    {
      "cell_type": "code",
      "source": [
        "your_firstname = input()\n"
      ],
      "metadata": {
        "colab": {
          "base_uri": "https://localhost:8080/"
        },
        "id": "P9Ff_AsmgeSq",
        "outputId": "241db805-bb7d-4866-f76e-a43d8eeb8f72"
      },
      "execution_count": null,
      "outputs": [
        {
          "name": "stdout",
          "output_type": "stream",
          "text": [
            "Sophia\n"
          ]
        }
      ]
    },
    {
      "cell_type": "code",
      "source": [
        "print(your_firstname)"
      ],
      "metadata": {
        "colab": {
          "base_uri": "https://localhost:8080/"
        },
        "id": "EBQpCyzVhVP8",
        "outputId": "a43a2b31-a19a-4fe9-c43e-172c6293459b"
      },
      "execution_count": null,
      "outputs": [
        {
          "output_type": "stream",
          "name": "stdout",
          "text": [
            "Sophia\n"
          ]
        }
      ]
    },
    {
      "cell_type": "code",
      "source": [
        "your_lastname = input()\n",
        "your_name = your_firstname + ' ' + your_lastname\n",
        "print(your_name)"
      ],
      "metadata": {
        "colab": {
          "base_uri": "https://localhost:8080/"
        },
        "id": "EJso05sUhbzQ",
        "outputId": "c1d8ac37-ba68-47bf-d32e-534e6db4e93c"
      },
      "execution_count": null,
      "outputs": [
        {
          "output_type": "stream",
          "name": "stdout",
          "text": [
            "kucan\n",
            "Sophia kucan\n"
          ]
        }
      ]
    },
    {
      "cell_type": "code",
      "source": [
        "type(your_name)"
      ],
      "metadata": {
        "colab": {
          "base_uri": "https://localhost:8080/"
        },
        "id": "RFA5qxeshryS",
        "outputId": "516f418b-8f43-4b2d-acbe-fab0690ed453"
      },
      "execution_count": null,
      "outputs": [
        {
          "output_type": "execute_result",
          "data": {
            "text/plain": [
              "str"
            ]
          },
          "metadata": {},
          "execution_count": 7
        }
      ]
    },
    {
      "cell_type": "code",
      "source": [
        "number = int(input())\n",
        "\n",
        "output = ((((number + 5) *3) -15) /number) +7\n",
        "print(output)"
      ],
      "metadata": {
        "colab": {
          "base_uri": "https://localhost:8080/"
        },
        "id": "HPpITe2wiXLM",
        "outputId": "dce1b6fa-6754-4b48-848d-35ea2b9801aa"
      },
      "execution_count": null,
      "outputs": [
        {
          "output_type": "stream",
          "name": "stdout",
          "text": [
            "3\n",
            "10.0\n"
          ]
        }
      ]
    },
    {
      "cell_type": "code",
      "source": [
        "height_cm = float(input())\n",
        "\n",
        "height_inches = height_cm/2.54\n",
        "height_feet = str(int(height_inches/12))\n",
        "remaining_inches = str(round(height_inches % 12, 2))\n",
        "\n",
        "print(\"Height\" + height_feet + \"ft\" + remaining_inches + \"in\")\n"
      ],
      "metadata": {
        "colab": {
          "base_uri": "https://localhost:8080/"
        },
        "id": "5pB90aA5i5zt",
        "outputId": "ba51648c-5b8b-4a36-9abb-06de97cb4648"
      },
      "execution_count": null,
      "outputs": [
        {
          "output_type": "stream",
          "name": "stdout",
          "text": [
            "1555\n",
            "Height51ft0.2in\n"
          ]
        }
      ]
    },
    {
      "cell_type": "code",
      "source": [
        "my_list = [1, \"apples\", 4, 3.14]\n",
        "first_element = my_list[0]\n",
        "print(first_element)\n",
        "\n",
        "sublist = my_list[1:3]\n",
        "\n",
        "length = len(my_list)\n",
        "\n"
      ],
      "metadata": {
        "colab": {
          "base_uri": "https://localhost:8080/"
        },
        "id": "6udnuWm_kYa3",
        "outputId": "64b666ef-9f57-4f51-9875-c06338541f7c"
      },
      "execution_count": null,
      "outputs": [
        {
          "output_type": "stream",
          "name": "stdout",
          "text": [
            "1\n"
          ]
        }
      ]
    },
    {
      "cell_type": "code",
      "source": [
        "a_city = \"London\"\n",
        "cities = [\"New York\", \"Tokyo\"]\n",
        "cities.append(a_city)\n",
        "print(cities)"
      ],
      "metadata": {
        "colab": {
          "base_uri": "https://localhost:8080/"
        },
        "id": "fD_k583Dltii",
        "outputId": "ac2b8f92-090f-495f-d383-af8a944bffb8"
      },
      "execution_count": null,
      "outputs": [
        {
          "output_type": "stream",
          "name": "stdout",
          "text": [
            "['New York', 'Tokyo', 'London']\n"
          ]
        }
      ]
    },
    {
      "cell_type": "code",
      "source": [
        "a_city = \"London\"\n",
        "cities = [\"London\", \"New York\", \"Tokyo\"]\n",
        "\n",
        "if cities[0] != \"London\":\n",
        "  cities.append(a_city)\n",
        "\n",
        "print(cities)\n"
      ],
      "metadata": {
        "colab": {
          "base_uri": "https://localhost:8080/"
        },
        "id": "VsMxznCGmN-c",
        "outputId": "1cf469d6-3ed7-47dc-ed82-c03febaf1245"
      },
      "execution_count": null,
      "outputs": [
        {
          "output_type": "stream",
          "name": "stdout",
          "text": [
            "['London', 'New York', 'Tokyo']\n"
          ]
        }
      ]
    },
    {
      "cell_type": "code",
      "source": [
        "cities = set([\"London\", \"New York\", \"Tokyo\"])\n",
        "\n",
        "another_city = \"Paris\"\n",
        "\n",
        "cities.add(another_city)\n",
        "\n",
        "print(cities)\n",
        "\n",
        "cities.add(another_city)\n",
        "\n",
        "print(cities)"
      ],
      "metadata": {
        "colab": {
          "base_uri": "https://localhost:8080/"
        },
        "id": "M6ob6Lpxm2FA",
        "outputId": "6467ff31-bc9a-4a86-fe17-6a437e9cd746"
      },
      "execution_count": null,
      "outputs": [
        {
          "output_type": "stream",
          "name": "stdout",
          "text": [
            "{'New York', 'Tokyo', 'Paris', 'London'}\n",
            "{'New York', 'Tokyo', 'Paris', 'London'}\n"
          ]
        }
      ]
    },
    {
      "cell_type": "code",
      "source": [
        "i = 1\n",
        "while i<6:\n",
        "  print(i)\n",
        "  i += 1\n"
      ],
      "metadata": {
        "colab": {
          "base_uri": "https://localhost:8080/"
        },
        "id": "nAJo7hu6ne40",
        "outputId": "2044e25e-afd6-4f2b-d71f-3d621af830e4"
      },
      "execution_count": null,
      "outputs": [
        {
          "output_type": "stream",
          "name": "stdout",
          "text": [
            "1\n",
            "2\n",
            "3\n",
            "4\n",
            "5\n"
          ]
        }
      ]
    },
    {
      "cell_type": "code",
      "source": [
        "def generate_fibonacci(n):\n",
        "  a, b = 0, 1\n",
        "  fib_sequence = []\n",
        "\n",
        "  for _ in range(n):\n",
        "    fib_sequence.append(a)\n",
        "    a, b = b, a + b\n",
        "  return fib_sequence\n",
        "\n",
        "  generate_fibonacci(20)\n"
      ],
      "metadata": {
        "id": "wGwb6wwCn0NJ"
      },
      "execution_count": null,
      "outputs": []
    },
    {
      "cell_type": "code",
      "source": [
        "for i in range(3):\n",
        "  print('Hello')"
      ],
      "metadata": {
        "id": "1N6zUNpDoxZH",
        "colab": {
          "base_uri": "https://localhost:8080/"
        },
        "outputId": "f2cec068-2a0d-4427-a116-94336828fa15"
      },
      "execution_count": null,
      "outputs": [
        {
          "output_type": "stream",
          "name": "stdout",
          "text": [
            "Hello\n",
            "Hello\n",
            "Hello\n"
          ]
        }
      ]
    },
    {
      "cell_type": "code",
      "source": [
        "file = open('example.txt', 'w')\n",
        "file.write('Hello world!')\n",
        "file.close()"
      ],
      "metadata": {
        "id": "pi1Kn6RPiQ4P"
      },
      "execution_count": null,
      "outputs": []
    },
    {
      "cell_type": "code",
      "source": [
        "import re\n",
        "\n",
        "\n",
        "with open('medical_paper.txt', 'r') as file:\n",
        "  data = file.read()\n",
        "\n",
        "\n",
        "print(data)\n"
      ],
      "metadata": {
        "colab": {
          "base_uri": "https://localhost:8080/"
        },
        "id": "jEe7MSjEkRKg",
        "outputId": "c1c33b36-f3a4-4492-c2dd-772d3cb034ca"
      },
      "execution_count": null,
      "outputs": [
        {
          "output_type": "stream",
          "name": "stdout",
          "text": [
            "Title: The Effects of Aspiriin and Ibuprofen on Cardiovascular Health\n",
            "\n",
            "Authors:\n",
            "\n",
            "- Dr. John Doe\n",
            "  - Phone: +44 20 7946 0478\n",
            "  - Email: john.doe@email.com\n",
            "- Dr. Jane Smith\n",
            "  - Phone: +44 20 7946 0958\n",
            "  - Email: jane.smith@email.com\n",
            "- Dr. Emily Brown\n",
            "  - Phone: +44 20 7946 0967\n",
            "  - Email: emily.brown@email.com\n",
            "\n",
            "Abstract:\n",
            "\n",
            "This paper aims to explore the long-term effects of non-steroidal anti-inflammatory drugs (NSAIDs), particularly Aspiriin and Ibuprofen, on cardiovascular health in adults.\n",
            "\n",
            "Keywords: Aspiriin, Ibuprofen, Cardiovascular Health, NSAIDs\n",
            "\n",
            "Introduction:\n",
            "\n",
            "Recent studies have shown conflicting results about the benefits and risks of Aspiriin and Ibuprofen, two common medications used for pain relief and inflammation reduction. This paper investigates these effects further.\n",
            "\n",
            "Methods:\n",
            "\n",
            "We conducted a double-blind, placebo-controlled trial with 300 adults. Participants were divided into three groups: one took Aspiriin, the second took Ibuprofen, and the third took a placebo.\n",
            "\n",
            "Results:\n",
            "\n",
            "Both Aspiriin and Ibuprofen showed a significant reduction in inflammation markers. However, prolonged use of Aspiriin was correlated with an increased risk of gastrointestinal bleeding.\n",
            "\n",
            "Conclusions:\n",
            "\n",
            "While both Aspiriin and Ibuprofen are effective in treating inflammation and pain, caution should be exercised with long-term use, especially for patients with a history of gastrointestinal issues.\n",
            "\n",
            "Acknowledgements:\n",
            "\n",
            "We would like to thank the medical staff at XYZ Hospital for their support.\n",
            "\n",
            "Contact:\n",
            "\n",
            "For further information, please contact Dr. John Doe at +44 20 7946 0478 or john.doe@email.com\n",
            "\n",
            "\n"
          ]
        }
      ]
    },
    {
      "cell_type": "code",
      "source": [
        "pattern = r'\\+44 \\d{2} \\d{4} \\d{4}'\n",
        "result = re.findall"
      ],
      "metadata": {
        "id": "EIFyYI9ql15X"
      },
      "execution_count": null,
      "outputs": []
    },
    {
      "cell_type": "code",
      "source": [
        "with open('medical_paper.txt', 'r') as file:\n",
        "  data = file.read()\n",
        "\n",
        "\n",
        "new_data = re.sub(r'\\bAspiriin\\b', 'Aspirin', data)\n",
        "print(new_data)\n",
        "\n",
        "with open('medical_paper_corrected.txt', 'w') as file:\n",
        "  file.write(new_data)"
      ],
      "metadata": {
        "colab": {
          "base_uri": "https://localhost:8080/"
        },
        "id": "5AbjhIUdnOYi",
        "outputId": "fafc44a3-8577-45a4-e148-082b2f3f4b1b"
      },
      "execution_count": null,
      "outputs": [
        {
          "output_type": "stream",
          "name": "stdout",
          "text": [
            "Title: The Effects of Aspirin and Ibuprofen on Cardiovascular Health\n",
            "\n",
            "Authors:\n",
            "\n",
            "- Dr. John Doe\n",
            "  - Phone: +44 20 7946 0478\n",
            "  - Email: john.doe@email.com\n",
            "- Dr. Jane Smith\n",
            "  - Phone: +44 20 7946 0958\n",
            "  - Email: jane.smith@email.com\n",
            "- Dr. Emily Brown\n",
            "  - Phone: +44 20 7946 0967\n",
            "  - Email: emily.brown@email.com\n",
            "\n",
            "Abstract:\n",
            "\n",
            "This paper aims to explore the long-term effects of non-steroidal anti-inflammatory drugs (NSAIDs), particularly Aspirin and Ibuprofen, on cardiovascular health in adults.\n",
            "\n",
            "Keywords: Aspirin, Ibuprofen, Cardiovascular Health, NSAIDs\n",
            "\n",
            "Introduction:\n",
            "\n",
            "Recent studies have shown conflicting results about the benefits and risks of Aspirin and Ibuprofen, two common medications used for pain relief and inflammation reduction. This paper investigates these effects further.\n",
            "\n",
            "Methods:\n",
            "\n",
            "We conducted a double-blind, placebo-controlled trial with 300 adults. Participants were divided into three groups: one took Aspirin, the second took Ibuprofen, and the third took a placebo.\n",
            "\n",
            "Results:\n",
            "\n",
            "Both Aspirin and Ibuprofen showed a significant reduction in inflammation markers. However, prolonged use of Aspirin was correlated with an increased risk of gastrointestinal bleeding.\n",
            "\n",
            "Conclusions:\n",
            "\n",
            "While both Aspirin and Ibuprofen are effective in treating inflammation and pain, caution should be exercised with long-term use, especially for patients with a history of gastrointestinal issues.\n",
            "\n",
            "Acknowledgements:\n",
            "\n",
            "We would like to thank the medical staff at XYZ Hospital for their support.\n",
            "\n",
            "Contact:\n",
            "\n",
            "For further information, please contact Dr. John Doe at +44 20 7946 0478 or john.doe@email.com\n",
            "\n",
            "\n"
          ]
        }
      ]
    },
    {
      "cell_type": "code",
      "source": [
        "pattern = r'\\b[A-Z][a-z]*\\b'\n",
        "result = re.findall(pattern, new_data)\n",
        "print('Found Capitalised Words:', result)"
      ],
      "metadata": {
        "colab": {
          "base_uri": "https://localhost:8080/"
        },
        "id": "uKpdMGEdn0ZF",
        "outputId": "898c6b1d-363e-45f1-9a32-f4eba592f3a5"
      },
      "execution_count": null,
      "outputs": [
        {
          "output_type": "stream",
          "name": "stdout",
          "text": [
            "Found Capitalised Words: ['Title', 'The', 'Effects', 'Aspirin', 'Ibuprofen', 'Cardiovascular', 'Health', 'Authors', 'Dr', 'John', 'Doe', 'Phone', 'Email', 'Dr', 'Jane', 'Smith', 'Phone', 'Email', 'Dr', 'Emily', 'Brown', 'Phone', 'Email', 'Abstract', 'This', 'Aspirin', 'Ibuprofen', 'Keywords', 'Aspirin', 'Ibuprofen', 'Cardiovascular', 'Health', 'Introduction', 'Recent', 'Aspirin', 'Ibuprofen', 'This', 'Methods', 'We', 'Participants', 'Aspirin', 'Ibuprofen', 'Results', 'Both', 'Aspirin', 'Ibuprofen', 'However', 'Aspirin', 'Conclusions', 'While', 'Aspirin', 'Ibuprofen', 'Acknowledgements', 'We', 'Hospital', 'Contact', 'For', 'Dr', 'John', 'Doe']\n"
          ]
        }
      ]
    },
    {
      "cell_type": "code",
      "source": [
        "pattern = r''"
      ],
      "metadata": {
        "id": "cWjR7i9mowEs"
      },
      "execution_count": null,
      "outputs": []
    },
    {
      "cell_type": "code",
      "source": [
        "y = 'hello'\n",
        "try:\n",
        "  print(y)\n",
        "except NameError:\n",
        "  print('Variable y not defined')"
      ],
      "metadata": {
        "colab": {
          "base_uri": "https://localhost:8080/"
        },
        "id": "u4vtnGCfpEat",
        "outputId": "547fe399-efd0-4c2c-ffb3-7904d7b9f4cb"
      },
      "execution_count": null,
      "outputs": [
        {
          "output_type": "stream",
          "name": "stdout",
          "text": [
            "hello\n"
          ]
        }
      ]
    },
    {
      "cell_type": "code",
      "source": [
        "try:\n",
        "  print(x_123)\n",
        "except NameError:\n",
        "  print('Variable x_123 not defined')\n"
      ],
      "metadata": {
        "colab": {
          "base_uri": "https://localhost:8080/"
        },
        "id": "GYy25zWipjM6",
        "outputId": "f7947131-1ff8-4775-cd71-f0b8f7a78aa2"
      },
      "execution_count": null,
      "outputs": [
        {
          "output_type": "stream",
          "name": "stdout",
          "text": [
            "Variable x_123 not defined\n"
          ]
        }
      ]
    },
    {
      "cell_type": "code",
      "source": [
        "class MyClass:\n",
        "  my_attribute = 'This is a class attribute'\n",
        "\n",
        "  def my_method(self):\n",
        "    print('This is a method of the class')"
      ],
      "metadata": {
        "id": "B5pPNO8WpvGa"
      },
      "execution_count": null,
      "outputs": []
    },
    {
      "cell_type": "code",
      "source": [
        "from collections.abc import AsyncGenerator\n",
        "from os import name\n",
        "class Person:\n",
        "  def_init_(self, name, age):\n",
        "    self.name = name\n",
        "    self.age = age\n",
        "\n",
        "  def greet(self):\n",
        "    print(f'Hello, my name is {self.name} and I am {self.age} years old.')\n",
        "\n",
        "  alice = Person('Alice', 25)\n",
        "  alice.greet()"
      ],
      "metadata": {
        "colab": {
          "base_uri": "https://localhost:8080/",
          "height": 110
        },
        "id": "hfern3L9rZgo",
        "outputId": "7fdb5ba1-65b2-4fbf-f29f-adb9fd4ff7c1"
      },
      "execution_count": null,
      "outputs": [
        {
          "output_type": "error",
          "ename": "SyntaxError",
          "evalue": "invalid syntax (<ipython-input-20-529831f42356>, line 4)",
          "traceback": [
            "\u001b[0;36m  File \u001b[0;32m\"<ipython-input-20-529831f42356>\"\u001b[0;36m, line \u001b[0;32m4\u001b[0m\n\u001b[0;31m    def_init_(self, name, age):\u001b[0m\n\u001b[0m                              ^\u001b[0m\n\u001b[0;31mSyntaxError\u001b[0m\u001b[0;31m:\u001b[0m invalid syntax\n"
          ]
        }
      ]
    },
    {
      "cell_type": "code",
      "source": [],
      "metadata": {
        "id": "g3H0Nk2wtFY6"
      },
      "execution_count": null,
      "outputs": []
    }
  ]
}
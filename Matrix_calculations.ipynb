{
  "nbformat": 4,
  "nbformat_minor": 0,
  "metadata": {
    "colab": {
      "provenance": [],
      "authorship_tag": "ABX9TyNRgFEX0iQ2abq/emNoUeMa",
      "include_colab_link": true
    },
    "kernelspec": {
      "name": "python3",
      "display_name": "Python 3"
    },
    "language_info": {
      "name": "python"
    }
  },
  "cells": [
    {
      "cell_type": "markdown",
      "metadata": {
        "id": "view-in-github",
        "colab_type": "text"
      },
      "source": [
        "<a href=\"https://colab.research.google.com/github/sophia1kucan/Next.js/blob/main/Matrix_calculations.ipynb\" target=\"_parent\"><img src=\"https://colab.research.google.com/assets/colab-badge.svg\" alt=\"Open In Colab\"/></a>"
      ]
    },
    {
      "cell_type": "code",
      "execution_count": 3,
      "metadata": {
        "colab": {
          "base_uri": "https://localhost:8080/"
        },
        "id": "VoAA_Vyh_vm9",
        "outputId": "523a7c8a-ad77-4aae-965b-228f4ad1df2b"
      },
      "outputs": [
        {
          "output_type": "stream",
          "name": "stdout",
          "text": [
            "Enter the number of rows:3\n",
            "Enter the number of columns:3\n",
            "Enter the entries row wise:\n",
            "4\n",
            "-2\n",
            "4\n",
            "0\n",
            "4\n",
            "-2\n",
            "6\n",
            "0\n",
            "4\n",
            "4 -2 4 \n",
            "0 4 -2 \n",
            "6 0 4 \n"
          ]
        }
      ],
      "source": [
        "Row = int(input(\"Enter the number of rows:\"))\n",
        "Column = int(input(\"Enter the number of columns:\"))\n",
        "\n",
        "matrix = []\n",
        "print(\"Enter the entries row wise:\")\n",
        "\n",
        "\n",
        "for row in range(Row):\n",
        "    a = []\n",
        "    for column in range(Column):\n",
        "        a.append(int(input()))\n",
        "    matrix.append(a)\n",
        "\n",
        "for row in range(Row):\n",
        "    for column in range(Column):\n",
        "        print(matrix[row][column], end=\" \")\n",
        "    print()\n"
      ]
    },
    {
      "cell_type": "code",
      "source": [
        "import numpy as np\n",
        "\n",
        "X = np.array([[4, -2, 4], [0, 4, -2], [6, 0, 4]])\n",
        "\n",
        "print(X)\n",
        "\n",
        "\n",
        "\n",
        "\n",
        "if np.linalg.det(X) != 0:\n",
        "    X_inv = np.linalg.inv(X)\n",
        "else:\n",
        "    print(\"Inverse doesn't exist\")\n",
        "\n",
        "print(np.linalg.inv(X))\n",
        "\n",
        "\n",
        "\n",
        "\n",
        "\n"
      ],
      "metadata": {
        "colab": {
          "base_uri": "https://localhost:8080/"
        },
        "id": "BNdQCaeF__36",
        "outputId": "86e9121b-fc93-4fa4-fc1b-58ce19d27f90"
      },
      "execution_count": 13,
      "outputs": [
        {
          "output_type": "stream",
          "name": "stdout",
          "text": [
            "[[ 4 -2  4]\n",
            " [ 0  4 -2]\n",
            " [ 6  0  4]]\n",
            "[[-2.  -1.   1.5]\n",
            " [ 1.5  1.  -1. ]\n",
            " [ 3.   1.5 -2. ]]\n"
          ]
        }
      ]
    },
    {
      "cell_type": "code",
      "source": [],
      "metadata": {
        "id": "m5YJmhT9A_uQ"
      },
      "execution_count": null,
      "outputs": []
    }
  ]
}